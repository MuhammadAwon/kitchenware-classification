{
 "cells": [
  {
   "cell_type": "markdown",
   "id": "5c98944d",
   "metadata": {
    "id": "4JAfZ-6wxFvx",
    "papermill": {
     "duration": 0.007278,
     "end_time": "2022-12-13T12:21:19.597255",
     "exception": false,
     "start_time": "2022-12-13T12:21:19.589977",
     "status": "completed"
    },
    "tags": []
   },
   "source": [
    "# Setup Kaggle API and Download Kitchenware Dataset"
   ]
  },
  {
   "cell_type": "code",
   "execution_count": 1,
   "id": "e826718d",
   "metadata": {
    "execution": {
     "iopub.execute_input": "2022-12-13T12:21:19.612110Z",
     "iopub.status.busy": "2022-12-13T12:21:19.610877Z",
     "iopub.status.idle": "2022-12-13T12:21:33.036188Z",
     "shell.execute_reply": "2022-12-13T12:21:33.034738Z"
    },
    "id": "EouQ3oMItQbf",
    "papermill": {
     "duration": 13.435661,
     "end_time": "2022-12-13T12:21:33.039061",
     "exception": false,
     "start_time": "2022-12-13T12:21:19.603400",
     "status": "completed"
    },
    "tags": []
   },
   "outputs": [
    {
     "name": "stdout",
     "output_type": "stream",
     "text": [
      "\u001b[33mWARNING: Running pip as the 'root' user can result in broken permissions and conflicting behaviour with the system package manager. It is recommended to use a virtual environment instead: https://pip.pypa.io/warnings/venv\u001b[0m\u001b[33m\r\n",
      "\u001b[0m"
     ]
    }
   ],
   "source": [
    "!pip install -q kaggle"
   ]
  },
  {
   "cell_type": "code",
   "execution_count": 2,
   "id": "10b29fb1",
   "metadata": {
    "execution": {
     "iopub.execute_input": "2022-12-13T12:21:33.054804Z",
     "iopub.status.busy": "2022-12-13T12:21:33.053553Z",
     "iopub.status.idle": "2022-12-13T12:21:33.136258Z",
     "shell.execute_reply": "2022-12-13T12:21:33.134619Z"
    },
    "id": "R7NojwHst7id",
    "outputId": "bf0b3af1-e9ff-41d6-b38b-1b2bf180d31f",
    "papermill": {
     "duration": 0.093509,
     "end_time": "2022-12-13T12:21:33.138954",
     "exception": true,
     "start_time": "2022-12-13T12:21:33.045445",
     "status": "failed"
    },
    "tags": []
   },
   "outputs": [
    {
     "ename": "ModuleNotFoundError",
     "evalue": "No module named 'google.colab'",
     "output_type": "error",
     "traceback": [
      "\u001b[0;31m---------------------------------------------------------------------------\u001b[0m",
      "\u001b[0;31mModuleNotFoundError\u001b[0m                       Traceback (most recent call last)",
      "\u001b[0;32m/tmp/ipykernel_20/1032409044.py\u001b[0m in \u001b[0;36m<module>\u001b[0;34m\u001b[0m\n\u001b[0;32m----> 1\u001b[0;31m \u001b[0;32mfrom\u001b[0m \u001b[0mgoogle\u001b[0m\u001b[0;34m.\u001b[0m\u001b[0mcolab\u001b[0m \u001b[0;32mimport\u001b[0m \u001b[0mfiles\u001b[0m\u001b[0;34m\u001b[0m\u001b[0;34m\u001b[0m\u001b[0m\n\u001b[0m\u001b[1;32m      2\u001b[0m \u001b[0;34m\u001b[0m\u001b[0m\n\u001b[1;32m      3\u001b[0m \u001b[0mfiles\u001b[0m\u001b[0;34m.\u001b[0m\u001b[0mupload\u001b[0m\u001b[0;34m(\u001b[0m\u001b[0;34m)\u001b[0m\u001b[0;34m\u001b[0m\u001b[0;34m\u001b[0m\u001b[0m\n",
      "\u001b[0;31mModuleNotFoundError\u001b[0m: No module named 'google.colab'"
     ]
    }
   ],
   "source": [
    "from google.colab import files\n",
    "\n",
    "files.upload()"
   ]
  },
  {
   "cell_type": "code",
   "execution_count": null,
   "id": "98f20f13",
   "metadata": {
    "id": "m9Z5XFnCt-m0",
    "papermill": {
     "duration": null,
     "end_time": null,
     "exception": null,
     "start_time": null,
     "status": "pending"
    },
    "tags": []
   },
   "outputs": [],
   "source": [
    "!mkdir ~/.kaggle\n",
    "!cp kaggle.json ~/.kaggle/\n",
    "!chmod 600 ~/.kaggle/kaggle.json"
   ]
  },
  {
   "cell_type": "code",
   "execution_count": null,
   "id": "1382d51e",
   "metadata": {
    "id": "3pk9YqsGuQUH",
    "outputId": "7e63bd51-1554-43cd-9f90-01cc1d4032a4",
    "papermill": {
     "duration": null,
     "end_time": null,
     "exception": null,
     "start_time": null,
     "status": "pending"
    },
    "tags": []
   },
   "outputs": [],
   "source": [
    "!kaggle competitions download -c kitchenware-classification\n",
    "!mkdir kitchenware-classification\n",
    "!unzip kitchenware-classification.zip -d kitchenware-classification > /dev/null\n",
    "!rm kitchenware-classification.zip"
   ]
  },
  {
   "cell_type": "code",
   "execution_count": null,
   "id": "54334560",
   "metadata": {
    "id": "MUyj0o5culJo",
    "outputId": "73d3628b-f62f-443f-a856-e7e123db2075",
    "papermill": {
     "duration": null,
     "end_time": null,
     "exception": null,
     "start_time": null,
     "status": "pending"
    },
    "tags": []
   },
   "outputs": [],
   "source": [
    "!ls"
   ]
  },
  {
   "cell_type": "markdown",
   "id": "de60038a",
   "metadata": {
    "id": "D-1czjGnvOhV",
    "papermill": {
     "duration": null,
     "end_time": null,
     "exception": null,
     "start_time": null,
     "status": "pending"
    },
    "tags": []
   },
   "source": [
    "## Kitchenware Classification Dataset Generator"
   ]
  },
  {
   "cell_type": "code",
   "execution_count": null,
   "id": "9f00714c",
   "metadata": {
    "id": "5lYYtZ3FvJF5",
    "papermill": {
     "duration": null,
     "end_time": null,
     "exception": null,
     "start_time": null,
     "status": "pending"
    },
    "tags": []
   },
   "outputs": [],
   "source": [
    "import PIL\n",
    "import pandas as pd\n",
    "import matplotlib.pyplot as plt\n",
    "\n",
    "from hashlib import md5\n",
    "from pathlib import Path\n",
    "from collections import defaultdict"
   ]
  },
  {
   "cell_type": "code",
   "execution_count": null,
   "id": "b84561ac",
   "metadata": {
    "id": "scxPHA6hvTmm",
    "papermill": {
     "duration": null,
     "end_time": null,
     "exception": null,
     "start_time": null,
     "status": "pending"
    },
    "tags": []
   },
   "outputs": [],
   "source": [
    "# base file structure\n",
    "project_dir = Path('/content/kitchenware-classification/')\n",
    "img_dir = project_dir / 'images'\n",
    "\n",
    "# new file structure (train and test dir)\n",
    "dataset_dir = Path('./kitchenware-dataset')\n",
    "train_dir = dataset_dir / 'train'\n",
    "test_dir = dataset_dir / 'test'\n",
    "\n",
    "# dataset files\n",
    "train_data = project_dir / 'train.csv'\n",
    "test_data = project_dir / 'test.csv'"
   ]
  },
  {
   "cell_type": "markdown",
   "id": "abe2f6c7",
   "metadata": {
    "id": "AYu0W4khv1qO",
    "papermill": {
     "duration": null,
     "end_time": null,
     "exception": null,
     "start_time": null,
     "status": "pending"
    },
    "tags": []
   },
   "source": [
    "## Import Dataset Files\n"
   ]
  },
  {
   "cell_type": "code",
   "execution_count": null,
   "id": "58697ee6",
   "metadata": {
    "id": "kN9BvZW3vpN7",
    "papermill": {
     "duration": null,
     "end_time": null,
     "exception": null,
     "start_time": null,
     "status": "pending"
    },
    "tags": []
   },
   "outputs": [],
   "source": [
    "# Import train and test data\n",
    "train_df = pd.read_csv(train_data)\n",
    "test_df = pd.read_csv(test_data)\n",
    "\n",
    "# Create new columns 'filename' for images from image id\n",
    "train_df['filename'] = train_df['Id'].apply(lambda x: f\"{x:04d}.jpg\")\n",
    "test_df['filename'] = test_df['Id'].apply(lambda x: f\"{x:04d}.jpg\")"
   ]
  },
  {
   "cell_type": "code",
   "execution_count": null,
   "id": "31e2c571",
   "metadata": {
    "id": "ab_RBW5Yv43X",
    "outputId": "045f6772-8d06-4fca-8638-c221bd45661e",
    "papermill": {
     "duration": null,
     "end_time": null,
     "exception": null,
     "start_time": null,
     "status": "pending"
    },
    "tags": []
   },
   "outputs": [],
   "source": [
    "display(train_df.head(), test_df.head())"
   ]
  },
  {
   "cell_type": "markdown",
   "id": "2e89f978",
   "metadata": {
    "id": "1XA6vx8lyUFR",
    "papermill": {
     "duration": null,
     "end_time": null,
     "exception": null,
     "start_time": null,
     "status": "pending"
    },
    "tags": []
   },
   "source": [
    "## Check Duplicate Images"
   ]
  },
  {
   "cell_type": "code",
   "execution_count": null,
   "id": "a7977d5f",
   "metadata": {
    "id": "Vc0PL9gNv6ZG",
    "outputId": "13cb80b3-6a6a-4887-e5e0-074faf502543",
    "papermill": {
     "duration": null,
     "end_time": null,
     "exception": null,
     "start_time": null,
     "status": "pending"
    },
    "tags": []
   },
   "outputs": [],
   "source": [
    "# Assign hash to the images\n",
    "hash_dict = defaultdict(list)\n",
    "for img in img_dir.glob('*.jpg'):\n",
    "    with img.open('rb') as f:\n",
    "        img_hash = (md5(f.read()).hexdigest())\n",
    "        hash_dict[img_hash].append(img)\n",
    "\n",
    "len(hash_dict)"
   ]
  },
  {
   "cell_type": "code",
   "execution_count": null,
   "id": "9ccd2cf9",
   "metadata": {
    "id": "k0ZgTi9cyWkz",
    "outputId": "54692403-ec97-4d05-91c2-1b1388d7d027",
    "papermill": {
     "duration": null,
     "end_time": null,
     "exception": null,
     "start_time": null,
     "status": "pending"
    },
    "tags": []
   },
   "outputs": [],
   "source": [
    "# Find image duplicates\n",
    "duplicate_img = []\n",
    "for k, v in hash_dict.items():\n",
    "    if len(v) > 1:\n",
    "        if v[0].name != v[1].name:\n",
    "            duplicate_img.append(v[0])\n",
    "            duplicate_img.append(v[1])\n",
    "            print(v)\n",
    "            \n",
    "len(duplicate_img)"
   ]
  },
  {
   "cell_type": "code",
   "execution_count": null,
   "id": "91d8265f",
   "metadata": {
    "id": "P0uFWL0qyZz7",
    "outputId": "99425e4e-de51-4eee-85e1-e4f790cc00ef",
    "papermill": {
     "duration": null,
     "end_time": null,
     "exception": null,
     "start_time": null,
     "status": "pending"
    },
    "tags": []
   },
   "outputs": [],
   "source": [
    "plt.figure(figsize=(12,8))\n",
    "\n",
    "for idx, img in enumerate(duplicate_img):\n",
    "    im = PIL.Image.open(img)\n",
    "    plt.subplot(6, 2, idx+1)\n",
    "    plt.imshow(im)\n",
    "    plt.axis('off')\n",
    "plt.show()"
   ]
  },
  {
   "cell_type": "markdown",
   "id": "ecf7bad6",
   "metadata": {
    "id": "aR8fOPlwyd96",
    "papermill": {
     "duration": null,
     "end_time": null,
     "exception": null,
     "start_time": null,
     "status": "pending"
    },
    "tags": []
   },
   "source": [
    "## Create Directory Structure"
   ]
  },
  {
   "cell_type": "code",
   "execution_count": null,
   "id": "905f975d",
   "metadata": {
    "id": "97_-UMpKyb_G",
    "papermill": {
     "duration": null,
     "end_time": null,
     "exception": null,
     "start_time": null,
     "status": "pending"
    },
    "tags": []
   },
   "outputs": [],
   "source": [
    "# Make test directory with sub-directories of class names\n",
    "test_dir.mkdir(parents=True, exist_ok=True)\n",
    "\n",
    "for label in train_df['label'].unique(): # extract labels from train_df\n",
    "    label_dir = train_dir / label\n",
    "    label_dir.mkdir(parents=True, exist_ok=True)"
   ]
  },
  {
   "cell_type": "markdown",
   "id": "fb6408f0",
   "metadata": {
    "id": "z1f-7zOAykSd",
    "papermill": {
     "duration": null,
     "end_time": null,
     "exception": null,
     "start_time": null,
     "status": "pending"
    },
    "tags": []
   },
   "source": [
    "## Move the Images"
   ]
  },
  {
   "cell_type": "code",
   "execution_count": null,
   "id": "b4c764f1",
   "metadata": {
    "id": "HXb9jFBEygtw",
    "outputId": "4ce5f5e3-6a41-4049-f2a2-ee415ab2a722",
    "papermill": {
     "duration": null,
     "end_time": null,
     "exception": null,
     "start_time": null,
     "status": "pending"
    },
    "tags": []
   },
   "outputs": [],
   "source": [
    "# List of all images\n",
    "images = list(img_dir.glob('*.jpg'))\n",
    "print(f'Found {len(images)} images')"
   ]
  },
  {
   "cell_type": "code",
   "execution_count": null,
   "id": "b03fa711",
   "metadata": {
    "id": "_tn0w1E_ym4p",
    "outputId": "09297243-e84c-42ff-f502-a3f67f4b0272",
    "papermill": {
     "duration": null,
     "end_time": null,
     "exception": null,
     "start_time": null,
     "status": "pending"
    },
    "tags": []
   },
   "outputs": [],
   "source": [
    "# Move images to train directory\n",
    "count = 0\n",
    "for img in train_df['filename'].to_list(): # image filename from df_train\n",
    "    label = train_df[train_df['filename'] == img]['label'].values[0] # filter filename column and extract values from label column\n",
    "    train_img_path = img_dir / img\n",
    "    new_train_img_path = train_dir.absolute() / label / img\n",
    "    if not new_train_img_path.exists():\n",
    "        try:\n",
    "            new_train_img_path.write_bytes(train_img_path.read_bytes())\n",
    "            count += 1\n",
    "        except FileNotFoundError:\n",
    "            pass\n",
    "    \n",
    "print(f'Total number of images in train directory: {count}')"
   ]
  },
  {
   "cell_type": "code",
   "execution_count": null,
   "id": "1420a2d7",
   "metadata": {
    "id": "rRl1wkstypuk",
    "outputId": "00489c0e-9508-4f2e-c232-a0760e820682",
    "papermill": {
     "duration": null,
     "end_time": null,
     "exception": null,
     "start_time": null,
     "status": "pending"
    },
    "tags": []
   },
   "outputs": [],
   "source": [
    "# Move images to test directory\n",
    "count = 0\n",
    "for img in test_df['filename'].to_list():\n",
    "    test_img_path = img_dir / img\n",
    "    new_test_img_path = test_dir.absolute() / img\n",
    "    if not new_test_img_path.exists():\n",
    "        try:\n",
    "            new_test_img_path.write_bytes(test_img_path.read_bytes())\n",
    "            count += 1\n",
    "        except FileNotFoundError:\n",
    "            pass\n",
    "        \n",
    "print(f'Total number of images in test directory: {count}')"
   ]
  },
  {
   "cell_type": "markdown",
   "id": "e49bed8a",
   "metadata": {
    "id": "gpsZVW6VyvNQ",
    "papermill": {
     "duration": null,
     "end_time": null,
     "exception": null,
     "start_time": null,
     "status": "pending"
    },
    "tags": []
   },
   "source": [
    "## Check Results"
   ]
  },
  {
   "cell_type": "code",
   "execution_count": null,
   "id": "f09413a0",
   "metadata": {
    "id": "yByuJrwRytgc",
    "outputId": "b3898219-8596-4e1a-ee97-a594807ee733",
    "papermill": {
     "duration": null,
     "end_time": null,
     "exception": null,
     "start_time": null,
     "status": "pending"
    },
    "tags": []
   },
   "outputs": [],
   "source": [
    "!ls kitchenware-dataset"
   ]
  },
  {
   "cell_type": "code",
   "execution_count": null,
   "id": "68f02aee",
   "metadata": {
    "id": "8djjWkb-1AZ-",
    "outputId": "748463fa-09e1-420a-ca21-a4a3c282073b",
    "papermill": {
     "duration": null,
     "end_time": null,
     "exception": null,
     "start_time": null,
     "status": "pending"
    },
    "tags": []
   },
   "outputs": [],
   "source": [
    "# Class directories in train data of images\n",
    "!ls kitchenware-dataset/train"
   ]
  },
  {
   "cell_type": "markdown",
   "id": "c7848820",
   "metadata": {
    "id": "fc2UhGI-1idq",
    "papermill": {
     "duration": null,
     "end_time": null,
     "exception": null,
     "start_time": null,
     "status": "pending"
    },
    "tags": []
   },
   "source": [
    "## Save Data to Google Drive"
   ]
  },
  {
   "cell_type": "code",
   "execution_count": null,
   "id": "34281412",
   "metadata": {
    "id": "Mlx3HFFl1Gzc",
    "outputId": "5b30e40d-aff6-4ba0-8072-e36aa97186df",
    "papermill": {
     "duration": null,
     "end_time": null,
     "exception": null,
     "start_time": null,
     "status": "pending"
    },
    "tags": []
   },
   "outputs": [],
   "source": [
    "from google.colab import drive\n",
    "\n",
    "drive.mount('/content/drive')"
   ]
  },
  {
   "cell_type": "code",
   "execution_count": null,
   "id": "aeb58801",
   "metadata": {
    "id": "NnrrhngE5Nll",
    "outputId": "06b0b6f4-2f06-4898-90b6-72b08a377427",
    "papermill": {
     "duration": null,
     "end_time": null,
     "exception": null,
     "start_time": null,
     "status": "pending"
    },
    "tags": []
   },
   "outputs": [],
   "source": [
    "!zip -r kitchenware-dataset.zip /content/kitchenware-dataset"
   ]
  },
  {
   "cell_type": "code",
   "execution_count": null,
   "id": "b0a144a3",
   "metadata": {
    "id": "zir_2Vhy1pj3",
    "papermill": {
     "duration": null,
     "end_time": null,
     "exception": null,
     "start_time": null,
     "status": "pending"
    },
    "tags": []
   },
   "outputs": [],
   "source": [
    "!cp -r /content/kitchenware-dataset.zip /content/drive/MyDrive"
   ]
  }
 ],
 "metadata": {
  "kernelspec": {
   "display_name": "Python 3",
   "language": "python",
   "name": "python3"
  },
  "language_info": {
   "codemirror_mode": {
    "name": "ipython",
    "version": 3
   },
   "file_extension": ".py",
   "mimetype": "text/x-python",
   "name": "python",
   "nbconvert_exporter": "python",
   "pygments_lexer": "ipython3",
   "version": "3.7.12"
  },
  "papermill": {
   "default_parameters": {},
   "duration": 25.427077,
   "end_time": "2022-12-13T12:21:34.071678",
   "environment_variables": {},
   "exception": true,
   "input_path": "__notebook__.ipynb",
   "output_path": "__notebook__.ipynb",
   "parameters": {},
   "start_time": "2022-12-13T12:21:08.644601",
   "version": "2.3.4"
  }
 },
 "nbformat": 4,
 "nbformat_minor": 5
}
