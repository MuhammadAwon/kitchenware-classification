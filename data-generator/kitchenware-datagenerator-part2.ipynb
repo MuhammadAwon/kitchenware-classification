{
 "cells": [
  {
   "cell_type": "markdown",
   "id": "743dd4b3",
   "metadata": {
    "id": "6M7pUMO8765O",
    "papermill": {
     "duration": 0.017871,
     "end_time": "2022-12-13T12:21:53.059024",
     "exception": false,
     "start_time": "2022-12-13T12:21:53.041153",
     "status": "completed"
    },
    "tags": []
   },
   "source": [
    "## Load the data"
   ]
  },
  {
   "cell_type": "code",
   "execution_count": 1,
   "id": "7d162678",
   "metadata": {
    "execution": {
     "iopub.execute_input": "2022-12-13T12:21:53.089806Z",
     "iopub.status.busy": "2022-12-13T12:21:53.089298Z",
     "iopub.status.idle": "2022-12-13T12:21:53.165891Z",
     "shell.execute_reply": "2022-12-13T12:21:53.163861Z"
    },
    "executionInfo": {
     "elapsed": 21409,
     "status": "ok",
     "timestamp": 1670914060516,
     "user": {
      "displayName": "Muhammad Awon",
      "userId": "01518351682999516874"
     },
     "user_tz": -300
    },
    "id": "ZYFxJaCf-Ttz",
    "outputId": "bdc357d4-c7fd-49b4-f46b-2448b325089e",
    "papermill": {
     "duration": 0.094793,
     "end_time": "2022-12-13T12:21:53.168250",
     "exception": true,
     "start_time": "2022-12-13T12:21:53.073457",
     "status": "failed"
    },
    "tags": []
   },
   "outputs": [
    {
     "ename": "ModuleNotFoundError",
     "evalue": "No module named 'google.colab'",
     "output_type": "error",
     "traceback": [
      "\u001b[0;31m---------------------------------------------------------------------------\u001b[0m",
      "\u001b[0;31mModuleNotFoundError\u001b[0m                       Traceback (most recent call last)",
      "\u001b[0;32m/tmp/ipykernel_19/3164841582.py\u001b[0m in \u001b[0;36m<module>\u001b[0;34m\u001b[0m\n\u001b[0;32m----> 1\u001b[0;31m \u001b[0;32mfrom\u001b[0m \u001b[0mgoogle\u001b[0m\u001b[0;34m.\u001b[0m\u001b[0mcolab\u001b[0m \u001b[0;32mimport\u001b[0m \u001b[0mdrive\u001b[0m\u001b[0;34m\u001b[0m\u001b[0;34m\u001b[0m\u001b[0m\n\u001b[0m\u001b[1;32m      2\u001b[0m \u001b[0;34m\u001b[0m\u001b[0m\n\u001b[1;32m      3\u001b[0m \u001b[0mdrive\u001b[0m\u001b[0;34m.\u001b[0m\u001b[0mmount\u001b[0m\u001b[0;34m(\u001b[0m\u001b[0;34m'/content/gdrive'\u001b[0m\u001b[0;34m)\u001b[0m\u001b[0;34m\u001b[0m\u001b[0;34m\u001b[0m\u001b[0m\n",
      "\u001b[0;31mModuleNotFoundError\u001b[0m: No module named 'google.colab'"
     ]
    }
   ],
   "source": [
    "from google.colab import drive\n",
    "\n",
    "drive.mount('/content/gdrive')"
   ]
  },
  {
   "cell_type": "code",
   "execution_count": null,
   "id": "dabcc387",
   "metadata": {
    "executionInfo": {
     "elapsed": 25874,
     "status": "ok",
     "timestamp": 1670914086375,
     "user": {
      "displayName": "Muhammad Awon",
      "userId": "01518351682999516874"
     },
     "user_tz": -300
    },
    "id": "WhGyBkOD64s5",
    "outputId": "31025831-190d-4ff1-b38a-3b0da5bdfe10",
    "papermill": {
     "duration": null,
     "end_time": null,
     "exception": null,
     "start_time": null,
     "status": "pending"
    },
    "tags": []
   },
   "outputs": [],
   "source": [
    "# Extract kitchenware.tar.gz file\n",
    "!tar -xzvf \"/content/gdrive/MyDrive/kitchenware.tar.gz\""
   ]
  },
  {
   "cell_type": "markdown",
   "id": "9c5727f5",
   "metadata": {
    "id": "Iy7mwlQp8DaK",
    "papermill": {
     "duration": null,
     "end_time": null,
     "exception": null,
     "start_time": null,
     "status": "pending"
    },
    "tags": []
   },
   "source": [
    "# EDA"
   ]
  },
  {
   "cell_type": "code",
   "execution_count": null,
   "id": "bb2b545f",
   "metadata": {
    "executionInfo": {
     "elapsed": 116,
     "status": "ok",
     "timestamp": 1670914086375,
     "user": {
      "displayName": "Muhammad Awon",
      "userId": "01518351682999516874"
     },
     "user_tz": -300
    },
    "id": "hI17uivv7m9t",
    "outputId": "9ad1ce0e-5917-4561-d3db-5a7c95e477ae",
    "papermill": {
     "duration": null,
     "end_time": null,
     "exception": null,
     "start_time": null,
     "status": "pending"
    },
    "tags": []
   },
   "outputs": [],
   "source": [
    "import os\n",
    "\n",
    "# Get project path\n",
    "data_dir_list  = os.listdir('/content/kitchenware-dataset')\n",
    "data_dir_list"
   ]
  },
  {
   "cell_type": "code",
   "execution_count": null,
   "id": "4159be27",
   "metadata": {
    "executionInfo": {
     "elapsed": 9,
     "status": "ok",
     "timestamp": 1670914086376,
     "user": {
      "displayName": "Muhammad Awon",
      "userId": "01518351682999516874"
     },
     "user_tz": -300
    },
    "id": "GrGXVM3H8kK6",
    "papermill": {
     "duration": null,
     "end_time": null,
     "exception": null,
     "start_time": null,
     "status": "pending"
    },
    "tags": []
   },
   "outputs": [],
   "source": [
    "# Make new base directory for train and validation set\n",
    "project_dir = '/content/kitchenware-dataset'\n",
    "base_dir = '/content/kitchware-data'\n",
    "os.makedirs(base_dir, exist_ok=True)"
   ]
  },
  {
   "cell_type": "code",
   "execution_count": null,
   "id": "fd267bf5",
   "metadata": {
    "executionInfo": {
     "elapsed": 9,
     "status": "ok",
     "timestamp": 1670914086376,
     "user": {
      "displayName": "Muhammad Awon",
      "userId": "01518351682999516874"
     },
     "user_tz": -300
    },
    "id": "y3H5gtRC-Qyd",
    "papermill": {
     "duration": null,
     "end_time": null,
     "exception": null,
     "start_time": null,
     "status": "pending"
    },
    "tags": []
   },
   "outputs": [],
   "source": [
    "# Create train directory including all 6 classes as subdirectories\n",
    "train_dir = os.path.join(base_dir, 'train')\n",
    "os.makedirs(train_dir, exist_ok=True)\n",
    "\n",
    "train_cup_dir = os.path.join(train_dir, 'cup')\n",
    "os.mkdir(train_cup_dir)\n",
    "\n",
    "train_fork_dir = os.path.join(train_dir, 'fork')\n",
    "os.mkdir(train_fork_dir)\n",
    "\n",
    "train_glass_dir = os.path.join(train_dir, 'glass')\n",
    "os.mkdir(train_glass_dir)\n",
    "\n",
    "train_knife_dir = os.path.join(train_dir, 'knife')\n",
    "os.mkdir(train_knife_dir)\n",
    "\n",
    "train_plate_dir = os.path.join(train_dir, 'plate')\n",
    "os.mkdir(train_plate_dir)\n",
    "\n",
    "train_spoon_dir = os.path.join(train_dir, 'spoon')\n",
    "os.mkdir(train_spoon_dir)"
   ]
  },
  {
   "cell_type": "code",
   "execution_count": null,
   "id": "9bf2d755",
   "metadata": {
    "executionInfo": {
     "elapsed": 9,
     "status": "ok",
     "timestamp": 1670914086377,
     "user": {
      "displayName": "Muhammad Awon",
      "userId": "01518351682999516874"
     },
     "user_tz": -300
    },
    "id": "-TIvVeT4BCcA",
    "papermill": {
     "duration": null,
     "end_time": null,
     "exception": null,
     "start_time": null,
     "status": "pending"
    },
    "tags": []
   },
   "outputs": [],
   "source": [
    "# Create validation directory including all 6 classes as subdirectories\n",
    "val_dir = os.path.join(base_dir, 'validation')\n",
    "os.makedirs(val_dir, exist_ok=True)\n",
    "\n",
    "val_cup_dir = os.path.join(val_dir, 'cup')\n",
    "os.mkdir(val_cup_dir)\n",
    "\n",
    "val_fork_dir = os.path.join(val_dir, 'fork')\n",
    "os.mkdir(val_fork_dir)\n",
    "\n",
    "val_glass_dir = os.path.join(val_dir, 'glass')\n",
    "os.mkdir(val_glass_dir)\n",
    "\n",
    "val_knife_dir = os.path.join(val_dir, 'knife')\n",
    "os.mkdir(val_knife_dir)\n",
    "\n",
    "val_plate_dir = os.path.join(val_dir, 'plate')\n",
    "os.mkdir(val_plate_dir)\n",
    "\n",
    "val_spoon_dir = os.path.join(val_dir, 'spoon')\n",
    "os.mkdir(val_spoon_dir)"
   ]
  },
  {
   "cell_type": "code",
   "execution_count": null,
   "id": "bd36aead",
   "metadata": {
    "executionInfo": {
     "elapsed": 9,
     "status": "ok",
     "timestamp": 1670914086377,
     "user": {
      "displayName": "Muhammad Awon",
      "userId": "01518351682999516874"
     },
     "user_tz": -300
    },
    "id": "JbH9JnQHBCMB",
    "papermill": {
     "duration": null,
     "end_time": null,
     "exception": null,
     "start_time": null,
     "status": "pending"
    },
    "tags": []
   },
   "outputs": [],
   "source": [
    "import random\n",
    "from shutil import copyfile\n",
    "\n",
    "# Function to split image data into train and validation\n",
    "def split_data(source, training, validation, split_size):\n",
    "  files = []\n",
    "  for filename in os.listdir(source):\n",
    "    file = source + filename\n",
    "    if os.path.getsize(file) > 0:\n",
    "      files.append(filename)\n",
    "    else:\n",
    "      print(f'{filename} is zero length, so ignoring.')\n",
    "\n",
    "    training_length = int(len(files) * split_size)\n",
    "    val_length = int(len(files) - training_length)\n",
    "    shuffled_set = random.sample(files, len(files))\n",
    "    training_set = shuffled_set[:training_length]\n",
    "    val_set = shuffled_set[training_length:]\n",
    "\n",
    "    for filename in training_set:\n",
    "      this_file = source + filename\n",
    "      destination = training + filename\n",
    "      copyfile(this_file, destination)\n",
    "\n",
    "    for filename in val_set:\n",
    "      this_file = source + filename\n",
    "      destination = validation + filename\n",
    "      copyfile(this_file, destination)"
   ]
  },
  {
   "cell_type": "code",
   "execution_count": null,
   "id": "e237daa7",
   "metadata": {
    "executionInfo": {
     "elapsed": 9,
     "status": "ok",
     "timestamp": 1670914086378,
     "user": {
      "displayName": "Muhammad Awon",
      "userId": "01518351682999516874"
     },
     "user_tz": -300
    },
    "id": "0oZrJQKKFYHt",
    "papermill": {
     "duration": null,
     "end_time": null,
     "exception": null,
     "start_time": null,
     "status": "pending"
    },
    "tags": []
   },
   "outputs": [],
   "source": [
    "# Create variables for source, train, and valiation directories for each class\n",
    "cup_source_dir = '/content/kitchenware-dataset/train/cup/'\n",
    "train_cup_dir = '/content/kitchware-data/train/cup/'\n",
    "val_cup_dir = '/content/kitchware-data/validation/cup/'\n",
    "\n",
    "fork_source_dir = '/content/kitchenware-dataset/train/fork/'\n",
    "train_fork_dir = '/content/kitchware-data/train/fork/'\n",
    "val_fork_dir = '/content/kitchware-data/validation/fork/'\n",
    "\n",
    "glass_source_dir = '/content/kitchenware-dataset/train/glass/'\n",
    "train_glass_dir = '/content/kitchware-data/train/glass/'\n",
    "val_glass_dir = '/content/kitchware-data/validation/glass/'\n",
    "\n",
    "knife_source_dir = '/content/kitchenware-dataset/train/knife/'\n",
    "train_knife_dir = '/content/kitchware-data/train/knife/'\n",
    "val_knife_dir = '/content/kitchware-data/validation/knife/'\n",
    "\n",
    "plate_source_dir = '/content/kitchenware-dataset/train/plate/'\n",
    "train_plate_dir = '/content/kitchware-data/train/plate/'\n",
    "val_plate_dir = '/content/kitchware-data/validation/plate/'\n",
    "\n",
    "spoon_source_dir = '/content/kitchenware-dataset/train/spoon/'\n",
    "train_spoon_dir = '/content/kitchware-data/train/spoon/'\n",
    "val_spoon_dir = '/content/kitchware-data/validation/spoon/'"
   ]
  },
  {
   "cell_type": "code",
   "execution_count": null,
   "id": "35ef7414",
   "metadata": {
    "executionInfo": {
     "elapsed": 2104134,
     "status": "ok",
     "timestamp": 1670916190503,
     "user": {
      "displayName": "Muhammad Awon",
      "userId": "01518351682999516874"
     },
     "user_tz": -300
    },
    "id": "U-9YRq2NHRkE",
    "outputId": "cc4fed69-cafd-4825-9e1c-325abf7f63bc",
    "papermill": {
     "duration": null,
     "end_time": null,
     "exception": null,
     "start_time": null,
     "status": "pending"
    },
    "tags": []
   },
   "outputs": [],
   "source": [
    "# Split image data into 85% training and 15% valiation data\n",
    "split_size = .85\n",
    "\n",
    "split_data(cup_source_dir, train_cup_dir, val_cup_dir, split_size)\n",
    "split_data(fork_source_dir, train_fork_dir, val_fork_dir, split_size)\n",
    "split_data(glass_source_dir, train_glass_dir, val_glass_dir, split_size)\n",
    "split_data(knife_source_dir, train_knife_dir, val_knife_dir, split_size)\n",
    "split_data(plate_source_dir, train_plate_dir, val_plate_dir, split_size)\n",
    "split_data(spoon_source_dir, train_spoon_dir, val_spoon_dir, split_size)\n",
    "print('completed!')"
   ]
  },
  {
   "cell_type": "code",
   "execution_count": null,
   "id": "cdf035ef",
   "metadata": {
    "executionInfo": {
     "elapsed": 955,
     "status": "ok",
     "timestamp": 1670916300051,
     "user": {
      "displayName": "Muhammad Awon",
      "userId": "01518351682999516874"
     },
     "user_tz": -300
    },
    "id": "xZqdAF_wH9o6",
    "outputId": "46e4b7ea-a590-437a-b28e-00b763c0c65f",
    "papermill": {
     "duration": null,
     "end_time": null,
     "exception": null,
     "start_time": null,
     "status": "pending"
    },
    "tags": []
   },
   "outputs": [],
   "source": [
    "import matplotlib.pyplot as plt\n",
    "from matplotlib.image import imread\n",
    "\n",
    "# Check the number of images in training data\n",
    "img_folder = ['cup', 'fork', 'glass', 'knife', 'plate', 'spoon']\n",
    "num_imgs = {}\n",
    "for i in img_folder:\n",
    "  images = len(os.listdir(train_dir + '/' + i + '/'))\n",
    "  num_imgs[i] = images\n",
    "\n",
    "for i in img_folder:\n",
    "  print(f\"Training {i} images are: {len(os.listdir(train_dir + '/' + i + '/'))}\")"
   ]
  },
  {
   "cell_type": "code",
   "execution_count": null,
   "id": "6a0e84bf",
   "metadata": {
    "executionInfo": {
     "elapsed": 620,
     "status": "ok",
     "timestamp": 1670916306630,
     "user": {
      "displayName": "Muhammad Awon",
      "userId": "01518351682999516874"
     },
     "user_tz": -300
    },
    "id": "KiUfbeYWLSM3",
    "outputId": "b6ab38a6-c460-4107-d9ca-63112385a9d2",
    "papermill": {
     "duration": null,
     "end_time": null,
     "exception": null,
     "start_time": null,
     "status": "pending"
    },
    "tags": []
   },
   "outputs": [],
   "source": [
    "# Plot image distribution in training data\n",
    "plt.figure(figsize=(9, 6))\n",
    "plt.bar(range(len(num_imgs)), list(num_imgs.values()), align='center')\n",
    "plt.xticks(range(len(num_imgs)), list(num_imgs.keys()))\n",
    "plt.title('Distribution of classes in Training Dataset')\n",
    "plt.show()"
   ]
  },
  {
   "cell_type": "code",
   "execution_count": null,
   "id": "26ea93f9",
   "metadata": {
    "executionInfo": {
     "elapsed": 9,
     "status": "ok",
     "timestamp": 1670916310612,
     "user": {
      "displayName": "Muhammad Awon",
      "userId": "01518351682999516874"
     },
     "user_tz": -300
    },
    "id": "5Gp8rBzhK-ZI",
    "outputId": "b399f1f8-ba4f-4298-ce12-299183fbf7d8",
    "papermill": {
     "duration": null,
     "end_time": null,
     "exception": null,
     "start_time": null,
     "status": "pending"
    },
    "tags": []
   },
   "outputs": [],
   "source": [
    "# Check the number of images in validation data\n",
    "img_folder = ['cup', 'fork', 'glass', 'knife', 'plate', 'spoon']\n",
    "num_imgs = {}\n",
    "for i in img_folder:\n",
    "  images = len(os.listdir(val_dir + '/' + i + '/'))\n",
    "  num_imgs[i] = images\n",
    "\n",
    "for i in img_folder:\n",
    "  print(f\"Validation {i} images are: {len(os.listdir(val_dir + '/' + i + '/'))}\")"
   ]
  },
  {
   "attachments": {},
   "cell_type": "markdown",
   "id": "431f9c5d",
   "metadata": {
    "id": "WG9BU_ZS_q7O",
    "papermill": {
     "duration": null,
     "end_time": null,
     "exception": null,
     "start_time": null,
     "status": "pending"
    },
    "tags": []
   },
   "source": [
    "## Move train and test images"
   ]
  },
  {
   "cell_type": "code",
   "execution_count": null,
   "id": "ba76c529",
   "metadata": {
    "executionInfo": {
     "elapsed": 4212,
     "status": "ok",
     "timestamp": 1670929514400,
     "user": {
      "displayName": "Muhammad Awon",
      "userId": "01518351682999516874"
     },
     "user_tz": -300
    },
    "id": "vky1E3ANKBaK",
    "papermill": {
     "duration": null,
     "end_time": null,
     "exception": null,
     "start_time": null,
     "status": "pending"
    },
    "tags": []
   },
   "outputs": [],
   "source": [
    "!pip install -q kaggle"
   ]
  },
  {
   "cell_type": "code",
   "execution_count": null,
   "id": "aac09372",
   "metadata": {
    "executionInfo": {
     "elapsed": 7272,
     "status": "ok",
     "timestamp": 1670929547529,
     "user": {
      "displayName": "Muhammad Awon",
      "userId": "01518351682999516874"
     },
     "user_tz": -300
    },
    "id": "5Q1AYTk-KBUE",
    "outputId": "792e1c85-2eb5-455a-815a-736c48527061",
    "papermill": {
     "duration": null,
     "end_time": null,
     "exception": null,
     "start_time": null,
     "status": "pending"
    },
    "tags": []
   },
   "outputs": [],
   "source": [
    "from google.colab import files\n",
    "\n",
    "files.upload()"
   ]
  },
  {
   "cell_type": "code",
   "execution_count": null,
   "id": "1013a238",
   "metadata": {
    "executionInfo": {
     "elapsed": 817,
     "status": "ok",
     "timestamp": 1670929649086,
     "user": {
      "displayName": "Muhammad Awon",
      "userId": "01518351682999516874"
     },
     "user_tz": -300
    },
    "id": "NFDOfsSIEw70",
    "papermill": {
     "duration": null,
     "end_time": null,
     "exception": null,
     "start_time": null,
     "status": "pending"
    },
    "tags": []
   },
   "outputs": [],
   "source": [
    "!mkdir ~/.kaggle\n",
    "!cp kaggle.json ~/.kaggle/\n",
    "!chmod 600 ~/.kaggle/kaggle.json"
   ]
  },
  {
   "cell_type": "code",
   "execution_count": null,
   "id": "1ee8c5ad",
   "metadata": {
    "executionInfo": {
     "elapsed": 36720,
     "status": "ok",
     "timestamp": 1670929719422,
     "user": {
      "displayName": "Muhammad Awon",
      "userId": "01518351682999516874"
     },
     "user_tz": -300
    },
    "id": "bpD4c3wzKaOo",
    "outputId": "fad03299-2d41-40bc-cdea-c6f477355719",
    "papermill": {
     "duration": null,
     "end_time": null,
     "exception": null,
     "start_time": null,
     "status": "pending"
    },
    "tags": []
   },
   "outputs": [],
   "source": [
    "!kaggle competitions download -c kitchenware-classification\n",
    "!mkdir data\n",
    "!unzip kitchenware-classification.zip -d data > /dev/null\n",
    "!rm kitchenware-classification.zip"
   ]
  },
  {
   "cell_type": "code",
   "execution_count": null,
   "id": "7ddd9a45",
   "metadata": {
    "executionInfo": {
     "elapsed": 615,
     "status": "ok",
     "timestamp": 1670929719993,
     "user": {
      "displayName": "Muhammad Awon",
      "userId": "01518351682999516874"
     },
     "user_tz": -300
    },
    "id": "NDg75NBZKcSG",
    "outputId": "c526dbcc-a6c8-4f6d-e7c6-10b20d7d8382",
    "papermill": {
     "duration": null,
     "end_time": null,
     "exception": null,
     "start_time": null,
     "status": "pending"
    },
    "tags": []
   },
   "outputs": [],
   "source": [
    "!ls"
   ]
  },
  {
   "cell_type": "code",
   "execution_count": null,
   "id": "73dbbabd",
   "metadata": {
    "executionInfo": {
     "elapsed": 474,
     "status": "ok",
     "timestamp": 1670930033576,
     "user": {
      "displayName": "Muhammad Awon",
      "userId": "01518351682999516874"
     },
     "user_tz": -300
    },
    "id": "5gQqTM0WMBUy",
    "outputId": "4daeae9e-91d2-4976-cbae-9d1729c89fea",
    "papermill": {
     "duration": null,
     "end_time": null,
     "exception": null,
     "start_time": null,
     "status": "pending"
    },
    "tags": []
   },
   "outputs": [],
   "source": [
    "# Data directory\n",
    "data_dir = 'data/images/'\n",
    "\n",
    "# Read train csv\n",
    "df_train_full = pd.read_csv('data/train.csv', dtype={'Id': str})\n",
    "# Add new column 'filename' for train images\n",
    "df_train_full['filename'] = data_dir + df_train_full['Id'] + '.jpg'\n",
    "df_train_full.copy()"
   ]
  },
  {
   "cell_type": "code",
   "execution_count": null,
   "id": "990b2db5",
   "metadata": {
    "executionInfo": {
     "elapsed": 30,
     "status": "ok",
     "timestamp": 1670930041814,
     "user": {
      "displayName": "Muhammad Awon",
      "userId": "01518351682999516874"
     },
     "user_tz": -300
    },
    "id": "uBAzaVXPK8OQ",
    "papermill": {
     "duration": null,
     "end_time": null,
     "exception": null,
     "start_time": null,
     "status": "pending"
    },
    "tags": []
   },
   "outputs": [],
   "source": [
    "from pathlib import Path"
   ]
  },
  {
   "cell_type": "code",
   "execution_count": null,
   "id": "60aa2d69",
   "metadata": {
    "executionInfo": {
     "elapsed": 28,
     "status": "ok",
     "timestamp": 1670930041816,
     "user": {
      "displayName": "Muhammad Awon",
      "userId": "01518351682999516874"
     },
     "user_tz": -300
    },
    "id": "l85z-h3QLJ-k",
    "papermill": {
     "duration": null,
     "end_time": null,
     "exception": null,
     "start_time": null,
     "status": "pending"
    },
    "tags": []
   },
   "outputs": [],
   "source": [
    "# base file structure\n",
    "project_dir = Path('/content/data/')\n",
    "img_dir = project_dir / 'images'"
   ]
  },
  {
   "cell_type": "code",
   "execution_count": null,
   "id": "81a81545",
   "metadata": {
    "executionInfo": {
     "elapsed": 29,
     "status": "ok",
     "timestamp": 1670930041818,
     "user": {
      "displayName": "Muhammad Awon",
      "userId": "01518351682999516874"
     },
     "user_tz": -300
    },
    "id": "ElEOBeOELYTK",
    "outputId": "35f950a7-a62b-4b5c-8ed3-c8bddd7020ea",
    "papermill": {
     "duration": null,
     "end_time": null,
     "exception": null,
     "start_time": null,
     "status": "pending"
    },
    "tags": []
   },
   "outputs": [],
   "source": [
    "project_dir"
   ]
  },
  {
   "cell_type": "code",
   "execution_count": null,
   "id": "0b23b9b9",
   "metadata": {
    "executionInfo": {
     "elapsed": 26,
     "status": "ok",
     "timestamp": 1670930041820,
     "user": {
      "displayName": "Muhammad Awon",
      "userId": "01518351682999516874"
     },
     "user_tz": -300
    },
    "id": "4EbTvn6wLZbV",
    "outputId": "e7871508-9cc8-43a8-f369-7b670be060cb",
    "papermill": {
     "duration": null,
     "end_time": null,
     "exception": null,
     "start_time": null,
     "status": "pending"
    },
    "tags": []
   },
   "outputs": [],
   "source": [
    "img_dir"
   ]
  },
  {
   "cell_type": "code",
   "execution_count": null,
   "id": "fa767c14",
   "metadata": {
    "executionInfo": {
     "elapsed": 15,
     "status": "ok",
     "timestamp": 1670930041820,
     "user": {
      "displayName": "Muhammad Awon",
      "userId": "01518351682999516874"
     },
     "user_tz": -300
    },
    "id": "BP6FNKnQLaB9",
    "papermill": {
     "duration": null,
     "end_time": null,
     "exception": null,
     "start_time": null,
     "status": "pending"
    },
    "tags": []
   },
   "outputs": [],
   "source": [
    "# new file structure (train and test dir)\n",
    "dataset_dir = Path('./kitchenware')\n",
    "train_dir = dataset_dir / 'train'\n",
    "test_dir = dataset_dir / 'test'"
   ]
  },
  {
   "cell_type": "code",
   "execution_count": null,
   "id": "7d544094",
   "metadata": {
    "executionInfo": {
     "elapsed": 37,
     "status": "ok",
     "timestamp": 1670930044920,
     "user": {
      "displayName": "Muhammad Awon",
      "userId": "01518351682999516874"
     },
     "user_tz": -300
    },
    "id": "3PScsKJALmjb",
    "outputId": "6dee6911-cdab-48ef-8b14-85348425fbb7",
    "papermill": {
     "duration": null,
     "end_time": null,
     "exception": null,
     "start_time": null,
     "status": "pending"
    },
    "tags": []
   },
   "outputs": [],
   "source": [
    "dataset_dir"
   ]
  },
  {
   "cell_type": "code",
   "execution_count": null,
   "id": "96809e89",
   "metadata": {
    "executionInfo": {
     "elapsed": 3,
     "status": "ok",
     "timestamp": 1670930049052,
     "user": {
      "displayName": "Muhammad Awon",
      "userId": "01518351682999516874"
     },
     "user_tz": -300
    },
    "id": "FnrWAneELoBB",
    "outputId": "1b654f4f-095a-44f6-dca0-6f484ea0206f",
    "papermill": {
     "duration": null,
     "end_time": null,
     "exception": null,
     "start_time": null,
     "status": "pending"
    },
    "tags": []
   },
   "outputs": [],
   "source": [
    "train_dir"
   ]
  },
  {
   "cell_type": "code",
   "execution_count": null,
   "id": "fcc2e42e",
   "metadata": {
    "executionInfo": {
     "elapsed": 13,
     "status": "ok",
     "timestamp": 1670930049907,
     "user": {
      "displayName": "Muhammad Awon",
      "userId": "01518351682999516874"
     },
     "user_tz": -300
    },
    "id": "g3g-pHMRLpmU",
    "outputId": "18f3fafa-c0c8-45cb-f88a-4cb3f01d9ddf",
    "papermill": {
     "duration": null,
     "end_time": null,
     "exception": null,
     "start_time": null,
     "status": "pending"
    },
    "tags": []
   },
   "outputs": [],
   "source": [
    "test_dir"
   ]
  },
  {
   "cell_type": "code",
   "execution_count": null,
   "id": "1aab262e",
   "metadata": {
    "executionInfo": {
     "elapsed": 15,
     "status": "ok",
     "timestamp": 1670930177862,
     "user": {
      "displayName": "Muhammad Awon",
      "userId": "01518351682999516874"
     },
     "user_tz": -300
    },
    "id": "lUbpFCp9LqSw",
    "outputId": "29ada304-66c8-47ed-edeb-f9611b75cd67",
    "papermill": {
     "duration": null,
     "end_time": null,
     "exception": null,
     "start_time": null,
     "status": "pending"
    },
    "tags": []
   },
   "outputs": [],
   "source": [
    "train_df = df_train_full.copy()\n",
    "test_df = df_submission[['Id', 'label', 'filename']].copy()\n",
    "display(train_df.head(), test_df.head())"
   ]
  },
  {
   "cell_type": "code",
   "execution_count": null,
   "id": "a310b795",
   "metadata": {
    "executionInfo": {
     "elapsed": 385,
     "status": "ok",
     "timestamp": 1670930219538,
     "user": {
      "displayName": "Muhammad Awon",
      "userId": "01518351682999516874"
     },
     "user_tz": -300
    },
    "id": "4E1pooTxLszW",
    "papermill": {
     "duration": null,
     "end_time": null,
     "exception": null,
     "start_time": null,
     "status": "pending"
    },
    "tags": []
   },
   "outputs": [],
   "source": [
    "# Train class directories\n",
    "for label in train_df['label'].unique():\n",
    "  label_dir = train_dir / label\n",
    "  label_dir.mkdir(parents=True, exist_ok=True)"
   ]
  },
  {
   "cell_type": "code",
   "execution_count": null,
   "id": "f340fd9e",
   "metadata": {
    "executionInfo": {
     "elapsed": 842,
     "status": "ok",
     "timestamp": 1670930228781,
     "user": {
      "displayName": "Muhammad Awon",
      "userId": "01518351682999516874"
     },
     "user_tz": -300
    },
    "id": "69kfUaY9Luu_",
    "papermill": {
     "duration": null,
     "end_time": null,
     "exception": null,
     "start_time": null,
     "status": "pending"
    },
    "tags": []
   },
   "outputs": [],
   "source": [
    "# Test class directories\n",
    "for label in test_df['label'].unique():\n",
    "  label_dir = test_dir / label\n",
    "  label_dir.mkdir(parents=True, exist_ok=True)"
   ]
  },
  {
   "cell_type": "code",
   "execution_count": null,
   "id": "5ca6c9cd",
   "metadata": {
    "executionInfo": {
     "elapsed": 381,
     "status": "ok",
     "timestamp": 1670930272499,
     "user": {
      "displayName": "Muhammad Awon",
      "userId": "01518351682999516874"
     },
     "user_tz": -300
    },
    "id": "h1aJavnOM98P",
    "outputId": "7779d508-af9c-47f6-a4e7-6dd469099dd1",
    "papermill": {
     "duration": null,
     "end_time": null,
     "exception": null,
     "start_time": null,
     "status": "pending"
    },
    "tags": []
   },
   "outputs": [],
   "source": [
    "# Extract image name from 'filename' in train_df\n",
    "img_lst = []\n",
    "for img in train_df.filename:\n",
    "  img_lst.append(img[-8:])\n",
    "\n",
    "# Create new column 'image' in train_df\n",
    "train_df['image'] = img_lst\n",
    "train_df.head()"
   ]
  },
  {
   "cell_type": "code",
   "execution_count": null,
   "id": "0c5e1dc4",
   "metadata": {
    "executionInfo": {
     "elapsed": 374,
     "status": "ok",
     "timestamp": 1670930293410,
     "user": {
      "displayName": "Muhammad Awon",
      "userId": "01518351682999516874"
     },
     "user_tz": -300
    },
    "id": "rwbcpbreNItn",
    "outputId": "a939e8f7-b3a1-4759-d626-e48d4d060cea",
    "papermill": {
     "duration": null,
     "end_time": null,
     "exception": null,
     "start_time": null,
     "status": "pending"
    },
    "tags": []
   },
   "outputs": [],
   "source": [
    "# Extract image name from 'filename' in test_df\n",
    "img_lst = []\n",
    "for img in test_df.filename:\n",
    "  img_lst.append(img[-8:])\n",
    "\n",
    "# Create new column 'image' in test_df\n",
    "test_df['image'] = img_lst\n",
    "test_df.head()"
   ]
  },
  {
   "cell_type": "code",
   "execution_count": null,
   "id": "a38de050",
   "metadata": {
    "executionInfo": {
     "elapsed": 4,
     "status": "ok",
     "timestamp": 1670930306951,
     "user": {
      "displayName": "Muhammad Awon",
      "userId": "01518351682999516874"
     },
     "user_tz": -300
    },
    "id": "ZWtu0PIMNN1q",
    "outputId": "9c63884c-cc7b-480e-ec1f-51892df0adbd",
    "papermill": {
     "duration": null,
     "end_time": null,
     "exception": null,
     "start_time": null,
     "status": "pending"
    },
    "tags": []
   },
   "outputs": [],
   "source": [
    "# List of all images\n",
    "images = list(img_dir.glob('*.jpg'))\n",
    "print(f'Found {len(images)} images')"
   ]
  },
  {
   "cell_type": "code",
   "execution_count": null,
   "id": "d8ece740",
   "metadata": {
    "executionInfo": {
     "elapsed": 8487,
     "status": "ok",
     "timestamp": 1670930324205,
     "user": {
      "displayName": "Muhammad Awon",
      "userId": "01518351682999516874"
     },
     "user_tz": -300
    },
    "id": "PnzOieT6NRJs",
    "outputId": "29419012-e7ce-4c23-b42e-4f7289446d8b",
    "papermill": {
     "duration": null,
     "end_time": null,
     "exception": null,
     "start_time": null,
     "status": "pending"
    },
    "tags": []
   },
   "outputs": [],
   "source": [
    "# Add image in the respective classes for train set\n",
    "count = 0\n",
    "for img in train_df['image'].to_list():\n",
    "  label = train_df[train_df['image'] == img]['label'].values[0]\n",
    "  train_img_path = img_dir / img\n",
    "  new_train_img_path = train_dir.absolute() / label/ img\n",
    "  if not new_train_img_path.exists():\n",
    "      try:\n",
    "          new_train_img_path.write_bytes(train_img_path.read_bytes())\n",
    "          count += 1\n",
    "      except FileNotFoundError:\n",
    "          pass\n",
    "    \n",
    "print(f'Total number of images in train directory: {count}')"
   ]
  },
  {
   "cell_type": "code",
   "execution_count": null,
   "id": "f9225c62",
   "metadata": {
    "executionInfo": {
     "elapsed": 8713,
     "status": "ok",
     "timestamp": 1670930344813,
     "user": {
      "displayName": "Muhammad Awon",
      "userId": "01518351682999516874"
     },
     "user_tz": -300
    },
    "id": "rRs6iDBDNTXc",
    "outputId": "fb5bf35d-b0b0-4edf-fe39-0c064f921bf0",
    "papermill": {
     "duration": null,
     "end_time": null,
     "exception": null,
     "start_time": null,
     "status": "pending"
    },
    "tags": []
   },
   "outputs": [],
   "source": [
    "# Add image in the respective classes for test set\n",
    "count = 0\n",
    "for img in test_df['image'].to_list():\n",
    "  label = test_df[test_df['image'] == img]['label'].values[0]\n",
    "  test_img_path = img_dir / img\n",
    "  new_test_img_path = test_dir.absolute() / label/ img\n",
    "  if not new_test_img_path.exists():\n",
    "      try:\n",
    "          new_test_img_path.write_bytes(test_img_path.read_bytes())\n",
    "          count += 1\n",
    "      except FileNotFoundError:\n",
    "          pass\n",
    "    \n",
    "print(f'Total number of images in test directory: {count}')"
   ]
  },
  {
   "cell_type": "markdown",
   "id": "c8ea4f8f",
   "metadata": {
    "id": "ZGjY0pVKOCsb",
    "papermill": {
     "duration": null,
     "end_time": null,
     "exception": null,
     "start_time": null,
     "status": "pending"
    },
    "tags": []
   },
   "source": [
    "## Save data to google drive"
   ]
  },
  {
   "cell_type": "code",
   "execution_count": null,
   "id": "b6d96d7f",
   "metadata": {
    "executionInfo": {
     "elapsed": 66607,
     "status": "ok",
     "timestamp": 1670930698922,
     "user": {
      "displayName": "Muhammad Awon",
      "userId": "01518351682999516874"
     },
     "user_tz": -300
    },
    "id": "9qWhoK_bNYV-",
    "outputId": "4887f328-0877-4068-9ad8-74593be40bf4",
    "papermill": {
     "duration": null,
     "end_time": null,
     "exception": null,
     "start_time": null,
     "status": "pending"
    },
    "tags": []
   },
   "outputs": [],
   "source": [
    "# zip kitchware directory and name it to preprocessed-kitchenware-dataset\n",
    "!zip -r preprocessed-kitchenware-dataset.zip /content/kitchenware"
   ]
  },
  {
   "cell_type": "code",
   "execution_count": null,
   "id": "0e9976f3",
   "metadata": {
    "executionInfo": {
     "elapsed": 7336,
     "status": "ok",
     "timestamp": 1670930769170,
     "user": {
      "displayName": "Muhammad Awon",
      "userId": "01518351682999516874"
     },
     "user_tz": -300
    },
    "id": "3RPyM2n0NrpA",
    "papermill": {
     "duration": null,
     "end_time": null,
     "exception": null,
     "start_time": null,
     "status": "pending"
    },
    "tags": []
   },
   "outputs": [],
   "source": [
    "# Copy to google drive\n",
    "!cp -r /content/preprocessed-kitchenware-dataset.zip /content/gdrive/MyDrive"
   ]
  },
  {
   "cell_type": "markdown",
   "id": "3ec6596c",
   "metadata": {
    "id": "ae3l2T_XPCPZ",
    "papermill": {
     "duration": null,
     "end_time": null,
     "exception": null,
     "start_time": null,
     "status": "pending"
    },
    "tags": []
   },
   "source": [
    "## Download data to disk"
   ]
  },
  {
   "cell_type": "code",
   "execution_count": null,
   "id": "38869740",
   "metadata": {
    "executionInfo": {
     "elapsed": 531,
     "status": "ok",
     "timestamp": 1670930817568,
     "user": {
      "displayName": "Muhammad Awon",
      "userId": "01518351682999516874"
     },
     "user_tz": -300
    },
    "id": "LP-vCKWmOyCC",
    "outputId": "a80657b2-27a6-402c-cf0b-16aba7fd6c57",
    "papermill": {
     "duration": null,
     "end_time": null,
     "exception": null,
     "start_time": null,
     "status": "pending"
    },
    "tags": []
   },
   "outputs": [],
   "source": [
    "from google.colab import files\n",
    "\n",
    "files.download(\"/content/preprocessed-kitchenware-dataset.zip\")"
   ]
  },
  {
   "cell_type": "code",
   "execution_count": null,
   "id": "d50dda7c",
   "metadata": {
    "id": "OYit0O0TPNsF",
    "papermill": {
     "duration": null,
     "end_time": null,
     "exception": null,
     "start_time": null,
     "status": "pending"
    },
    "tags": []
   },
   "outputs": [],
   "source": []
  }
 ],
 "metadata": {
  "kernelspec": {
   "display_name": "deployment-vd__Vczp",
   "language": "python",
   "name": "python3"
  },
  "language_info": {
   "codemirror_mode": {
    "name": "ipython",
    "version": 3
   },
   "file_extension": ".py",
   "mimetype": "text/x-python",
   "name": "python",
   "nbconvert_exporter": "python",
   "pygments_lexer": "ipython3",
   "version": "3.9.12 (main, Apr  4 2022, 05:22:27) [MSC v.1916 64 bit (AMD64)]"
  },
  "papermill": {
   "default_parameters": {},
   "duration": 9.449246,
   "end_time": "2022-12-13T12:21:53.904998",
   "environment_variables": {},
   "exception": true,
   "input_path": "__notebook__.ipynb",
   "output_path": "__notebook__.ipynb",
   "parameters": {},
   "start_time": "2022-12-13T12:21:44.455752",
   "version": "2.3.4"
  },
  "vscode": {
   "interpreter": {
    "hash": "1937032b4ce7e98616cd4bb5dc0a66f3cb839475126310d8b638bc8c5c659be3"
   }
  }
 },
 "nbformat": 4,
 "nbformat_minor": 5
}
